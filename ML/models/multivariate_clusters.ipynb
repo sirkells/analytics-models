{
 "cells": [
  {
   "cell_type": "code",
   "execution_count": 175,
   "metadata": {},
   "outputs": [
    {
     "name": "stderr",
     "output_type": "stream",
     "text": [
      "[nltk_data] Downloading package stopwords to /home/ki/nltk_data...\n",
      "[nltk_data]   Package stopwords is already up-to-date!\n",
      "[nltk_data] Downloading package punkt to /home/ki/nltk_data...\n",
      "[nltk_data]   Package punkt is already up-to-date!\n"
     ]
    }
   ],
   "source": [
    "import numpy as np # linear algebra\n",
    "import pandas as pd # data processing, CSV file I/O (e.g. pd.read_csv)\n",
    "from sklearn.cluster import KMeans \n",
    "from sklearn.feature_extraction.text import TfidfVectorizer, CountVectorizer\n",
    "from sklearn.decomposition import PCA\n",
    "from sklearn.preprocessing import normalize, Normalizer\n",
    "from sklearn.metrics import pairwise_distances\n",
    "from sklearn.pipeline import Pipeline, FeatureUnion, make_pipeline, make_union\n",
    "from sklearn.base import TransformerMixin\n",
    "\n",
    "import nltk\n",
    "nltk.download('stopwords')\n",
    "nltk.download('punkt')\n",
    "import string\n",
    "\n",
    "import matplotlib.pyplot as plt\n",
    "%matplotlib inline\n",
    "plt.style.use('fivethirtyeight')\n",
    "\n",
    "import os, sys, email,re\n",
    "from sklearn.metrics import silhouette_score, silhouette_samples\n",
    "\n"
   ]
  },
  {
   "cell_type": "code",
   "execution_count": 176,
   "metadata": {},
   "outputs": [
    {
     "data": {
      "text/html": [
       "<div>\n",
       "<style scoped>\n",
       "    .dataframe tbody tr th:only-of-type {\n",
       "        vertical-align: middle;\n",
       "    }\n",
       "\n",
       "    .dataframe tbody tr th {\n",
       "        vertical-align: top;\n",
       "    }\n",
       "\n",
       "    .dataframe thead th {\n",
       "        text-align: right;\n",
       "    }\n",
       "</style>\n",
       "<table border=\"1\" class=\"dataframe\">\n",
       "  <thead>\n",
       "    <tr style=\"text-align: right;\">\n",
       "      <th></th>\n",
       "      <th>skill_summary</th>\n",
       "      <th>title</th>\n",
       "      <th>description</th>\n",
       "    </tr>\n",
       "  </thead>\n",
       "  <tbody>\n",
       "    <tr>\n",
       "      <th>0</th>\n",
       "      <td>tableau, visualisierung</td>\n",
       "      <td>Business Intelligence Analyst (m/w) - Tableau ...</td>\n",
       "      <td>Business Intelligence Analyst (m/w) - Tableau ...</td>\n",
       "    </tr>\n",
       "    <tr>\n",
       "      <th>1</th>\n",
       "      <td>, implementierung, java, ms sql, camel, apache...</td>\n",
       "      <td>Developer - Talend ESB oder Apache Camel (m/w)...</td>\n",
       "      <td>Konzeption, Customizing sowie Softwareanpassun...</td>\n",
       "    </tr>\n",
       "    <tr>\n",
       "      <th>2</th>\n",
       "      <td>, windows, clients, ios, mobile devices, mobil...</td>\n",
       "      <td>IT-Mitarbeiter (m/w) 1st / 2nd Level Support /...</td>\n",
       "      <td>Als Mitglied eines kleinen, dynamischen Teams ...</td>\n",
       "    </tr>\n",
       "    <tr>\n",
       "      <th>3</th>\n",
       "      <td>dynamics ax 2009, dynamics crm 4.0, dynamics a...</td>\n",
       "      <td>Consultant für Microsoft Dynamics CRM (m/w)</td>\n",
       "      <td>Über unseren Kunden: \\n   \\n Unser Kunde ist e...</td>\n",
       "    </tr>\n",
       "    <tr>\n",
       "      <th>4</th>\n",
       "      <td>hibernate, java, deutsch, oracle 11g, oracle 1...</td>\n",
       "      <td>Java Senior Developer - Backend (f/m)</td>\n",
       "      <td>Über unseren Kunden: \\n   \\n Unser Kunde ist e...</td>\n",
       "    </tr>\n",
       "  </tbody>\n",
       "</table>\n",
       "</div>"
      ],
      "text/plain": [
       "                                       skill_summary  \\\n",
       "0                            tableau, visualisierung   \n",
       "1  , implementierung, java, ms sql, camel, apache...   \n",
       "2  , windows, clients, ios, mobile devices, mobil...   \n",
       "3  dynamics ax 2009, dynamics crm 4.0, dynamics a...   \n",
       "4  hibernate, java, deutsch, oracle 11g, oracle 1...   \n",
       "\n",
       "                                               title  \\\n",
       "0  Business Intelligence Analyst (m/w) - Tableau ...   \n",
       "1  Developer - Talend ESB oder Apache Camel (m/w)...   \n",
       "2  IT-Mitarbeiter (m/w) 1st / 2nd Level Support /...   \n",
       "3        Consultant für Microsoft Dynamics CRM (m/w)   \n",
       "4              Java Senior Developer - Backend (f/m)   \n",
       "\n",
       "                                         description  \n",
       "0  Business Intelligence Analyst (m/w) - Tableau ...  \n",
       "1  Konzeption, Customizing sowie Softwareanpassun...  \n",
       "2  Als Mitglied eines kleinen, dynamischen Teams ...  \n",
       "3  Über unseren Kunden: \\n   \\n Unser Kunde ist e...  \n",
       "4  Über unseren Kunden: \\n   \\n Unser Kunde ist e...  "
      ]
     },
     "execution_count": 176,
     "metadata": {},
     "output_type": "execute_result"
    }
   ],
   "source": [
    "df = pd.read_csv('../projectfinder.csv')\n",
    "df.dropna(axis=0, inplace=True)\n",
    "df.head()\n",
    "#df.describe()"
   ]
  },
  {
   "cell_type": "code",
   "execution_count": 177,
   "metadata": {},
   "outputs": [],
   "source": [
    "#split features\n",
    "title = df['title']\n",
    "description = df['description']\n",
    "skill = df['skill_summary']"
   ]
  },
  {
   "cell_type": "code",
   "execution_count": 178,
   "metadata": {},
   "outputs": [],
   "source": [
    "# load nltk's German stopwords'\n",
    "with open('../stopwords-de.txt', 'r') as f:\n",
    "    stopwords_germ = f.read().splitlines()\n",
    "\n",
    "stopwords_eng = nltk.corpus.stopwords.words('english')\n",
    "extra = ['bewerben', 'direkt', 'melden', 'www', 'contactor', 'erfahrung', 'kenntnisse',\n",
    "'contractor','https','de','impressum','munchen','frankfurt']\n",
    "stopwords = stopwords_germ + stopwords_eng + extra\n"
   ]
  },
  {
   "cell_type": "code",
   "execution_count": 179,
   "metadata": {},
   "outputs": [],
   "source": [
    "# load nltk's SnowballStemmer\n",
    "from nltk.stem.snowball import SnowballStemmer\n",
    "stemmer_eng = SnowballStemmer(\"english\")\n",
    "stemmer_germ = SnowballStemmer(\"german\")"
   ]
  },
  {
   "cell_type": "code",
   "execution_count": 180,
   "metadata": {},
   "outputs": [],
   "source": [
    "def clean_and_stem(word):\n",
    "    clean_word = str(word).replace('[','').replace(']','').replace(\"'\", \"\")\n",
    "    #stemming lowers also\n",
    "    eng_stem = stemmer_eng.stem(clean_word)\n",
    "    germ_stem= stemmer_germ.stem(eng_stem)\n",
    "    return germ_stem\n"
   ]
  },
  {
   "cell_type": "code",
   "execution_count": 181,
   "metadata": {},
   "outputs": [],
   "source": [
    "def get_optimal_data(df):\n",
    "    #split features\n",
    "    col = [col for col in df.columns]\n",
    "    combined = df[col[0]] + ' '  + df[col[1]] + ' '  + df[col[2]]\n",
    "    combined_tolist = [item.split() for item in combined]\n",
    "    combined_cleaned = [clean_and_stem(word) for word in combined_tolist]\n",
    "    return combined_cleaned"
   ]
  },
  {
   "cell_type": "code",
   "execution_count": 182,
   "metadata": {},
   "outputs": [
    {
     "name": "stderr",
     "output_type": "stream",
     "text": [
      "/opt/anaconda3/lib/python3.7/site-packages/sklearn/feature_extraction/text.py:300: UserWarning: Your stop_words may be inconsistent with your preprocessing. Tokenizing the stop words generated tokens ['wahr'] not in stop_words.\n",
      "  'stop_words.' % sorted(inconsistent))\n"
     ]
    },
    {
     "data": {
      "text/plain": [
       "(5360, 261347)"
      ]
     },
     "execution_count": 182,
     "metadata": {},
     "output_type": "execute_result"
    }
   ],
   "source": [
    "vectorizer = CountVectorizer(stop_words=stopwords,ngram_range=(1, 1))\n",
    "tfidf = TfidfVectorizer(stop_words=stopwords,ngram_range=(1, 2))\n",
    "\n",
    "#X = vectorizer.fit_transform(chi)\n",
    "X = tfidf.fit_transform(get_optimal_data(df))\n",
    "X.shape\n"
   ]
  },
  {
   "cell_type": "code",
   "execution_count": 124,
   "metadata": {},
   "outputs": [
    {
     "data": {
      "image/png": "[encoded data removed]",
      "text/plain": [
       "<Figure size 432x432 with 1 Axes>"
      ]
     },
     "metadata": {
      "needs_background": "light"
     },
     "output_type": "display_data"
    }
   ],
   "source": [
    "#Finding optimal number of clusters using Elbow\n",
    "sse = []\n",
    "list_k = list(range(1, 10))\n",
    "\n",
    "for k in list_k:\n",
    "    km = KMeans(n_clusters=k)\n",
    "    km.fit(X)\n",
    "    sse.append(km.inertia_)\n",
    "\n",
    "# Plot sse against k\n",
    "plt.figure(figsize=(6, 6))\n",
    "plt.plot(list_k, sse, '-o')\n",
    "plt.xlabel(r'Number of clusters')\n",
    "plt.ylabel('Sum of squared distance');"
   ]
  },
  {
   "cell_type": "code",
   "execution_count": 199,
   "metadata": {},
   "outputs": [
    {
     "data": {
      "text/plain": [
       "KMeans(algorithm='auto', copy_x=True, init='k-means++', max_iter=1000,\n",
       "    n_clusters=3, n_init=2, n_jobs=None, precompute_distances='auto',\n",
       "    random_state=None, tol=0.0001, verbose=0)"
      ]
     },
     "execution_count": 199,
     "metadata": {},
     "output_type": "execute_result"
    }
   ],
   "source": [
    "true_k = 3\n",
    "model = KMeans(n_clusters=true_k, init='k-means++', max_iter=1000, n_init=2)\n",
    "model.fit(X)"
   ]
  },
  {
   "cell_type": "code",
   "execution_count": 200,
   "metadata": {},
   "outputs": [],
   "source": [
    "from sklearn.decomposition import TruncatedSVD\n",
    "#dimensionality reduction\n",
    "SVD = TruncatedSVD(n_components=2).fit_transform(X)\n",
    "#cluster center\n",
    "#centers = pca1.transform(model.cluster_centers_)\n",
    "#model labels\n",
    "labels = model.labels_.tolist()"
   ]
  },
  {
   "cell_type": "code",
   "execution_count": 208,
   "metadata": {},
   "outputs": [
    {
     "data": {
      "image/png": "[encoded data removed]",
      "text/plain": [
       "<Figure size 720x720 with 1 Axes>"
      ]
     },
     "metadata": {},
     "output_type": "display_data"
    }
   ],
   "source": [
    "import pylab as pl\n",
    "pl.figure(figsize=(10, 10))\n",
    "for i in range(0, SVD.shape[0]):\n",
    "    if model.labels_[i] == 0:\n",
    "        c0 = pl.scatter(SVD[i,0],SVD[i,1],c='r', marker='o')\n",
    "    elif model.labels_[i] == 1:\n",
    "        c1 = pl.scatter(SVD[i,0],SVD[i,1],c='g', marker='^')\n",
    "    elif model.labels_[i] == 2:\n",
    "        c2 = pl.scatter(SVD[i,0],SVD[i,1],c='b', marker='D')\n",
    "#plt.scatter(centers[:,0], centers[:,1], marker='x', s=300, linewidths=3, c='y') \n",
    "pl.legend([c0, c1, c2], ['Cluster0', 'Cluster1','Cluster2'])\n",
    "pl.title('Projectfinder dataset with 3 clusters')\n",
    "pl.savefig('projectfinder_cluster.png', bbox_inches='tight')\n",
    "pl.show()"
   ]
  },
  {
   "cell_type": "code",
   "execution_count": 206,
   "metadata": {},
   "outputs": [
    {
     "data": {
      "text/plain": [
       "array([[254895, 156631, 220113, ...,  92407,  92408, 130673],\n",
       "       [122064,  78931, 213500, ..., 149414, 149413, 261346],\n",
       "       [196892,   8229,  92290, ..., 162727, 162724, 130673]])"
      ]
     },
     "execution_count": 206,
     "metadata": {},
     "output_type": "execute_result"
    }
   ],
   "source": [
    "order_centroids = model.cluster_centers_.argsort()[:, ::-1]\n",
    "terms = tfidf.get_feature_names()\n",
    "order_centroids\n",
    "#terms\n"
   ]
  },
  {
   "cell_type": "code",
   "execution_count": 207,
   "metadata": {},
   "outputs": [
    {
     "name": "stdout",
     "output_type": "stream",
     "text": [
      "\n",
      "Cluster 0\n",
      "windows\n",
      "net\n",
      "support\n",
      "sql\n",
      "data\n",
      "kunden\n",
      "server\n",
      "business\n",
      "oracle\n",
      "ms\n",
      "\n",
      "Cluster 1\n",
      "java\n",
      "entwickler\n",
      "spring\n",
      "frontend\n",
      "angular\n",
      "java entwickler\n",
      "javascript\n",
      "js\n",
      "entwicklung\n",
      "developer\n",
      "\n",
      "Cluster 2\n",
      "sap\n",
      "abap\n",
      "fi\n",
      "berater\n",
      "hana\n",
      "sd\n",
      "sap fi\n",
      "co\n",
      "mm\n",
      "pp\n"
     ]
    }
   ],
   "source": [
    "for i in range(true_k):\n",
    "    print()\n",
    "    print(f'Cluster {i}')\n",
    "    \n",
    "    for ind in order_centroids[i, :10]:\n",
    "        print(terms[ind])"
   ]
  },
  {
   "cell_type": "code",
   "execution_count": 121,
   "metadata": {},
   "outputs": [],
   "source": [
    "\n",
    "def evaluate_kmeans(X, model, metric='euclidean'):\n",
    "    \"\"\" Evaluate a K-Means model that has been trained on X using the\n",
    "     Silhouette score.\n",
    "\n",
    "    Args:\n",
    "        X: the TF-IDF matrix where each line represents a document and each\n",
    "           column represents a word, typically obtained by running\n",
    "           transform_text() from the TP2.\n",
    "        model: the KMeans model trained on X.\n",
    "    Returns:\n",
    "        A double that corresponds to the Silhouette score of the model.\n",
    "    \"\"\"\n",
    "    return silhouette_score(X, model.labels_)"
   ]
  },
  {
   "cell_type": "code",
   "execution_count": 122,
   "metadata": {},
   "outputs": [
    {
     "data": {
      "text/plain": [
       "0.009520793678100435"
      ]
     },
     "execution_count": 122,
     "metadata": {},
     "output_type": "execute_result"
    }
   ],
   "source": [
    "evaluate_kmeans(X, model)"
   ]
  },
  {
   "cell_type": "code",
   "execution_count": 210,
   "metadata": {},
   "outputs": [
    {
     "data": {
      "text/html": [
       "<div>\n",
       "<style scoped>\n",
       "    .dataframe tbody tr th:only-of-type {\n",
       "        vertical-align: middle;\n",
       "    }\n",
       "\n",
       "    .dataframe tbody tr th {\n",
       "        vertical-align: top;\n",
       "    }\n",
       "\n",
       "    .dataframe thead th {\n",
       "        text-align: right;\n",
       "    }\n",
       "</style>\n",
       "<table border=\"1\" class=\"dataframe\">\n",
       "  <thead>\n",
       "    <tr style=\"text-align: right;\">\n",
       "      <th></th>\n",
       "      <th>skill_summary</th>\n",
       "      <th>title</th>\n",
       "      <th>description</th>\n",
       "      <th>label</th>\n",
       "    </tr>\n",
       "  </thead>\n",
       "  <tbody>\n",
       "    <tr>\n",
       "      <th>0</th>\n",
       "      <td>tableau, visualisierung</td>\n",
       "      <td>Business Intelligence Analyst (m/w) - Tableau ...</td>\n",
       "      <td>Business Intelligence Analyst (m/w) - Tableau ...</td>\n",
       "      <td>0</td>\n",
       "    </tr>\n",
       "    <tr>\n",
       "      <th>1</th>\n",
       "      <td>, implementierung, java, ms sql, camel, apache...</td>\n",
       "      <td>Developer - Talend ESB oder Apache Camel (m/w)...</td>\n",
       "      <td>Konzeption, Customizing sowie Softwareanpassun...</td>\n",
       "      <td>0</td>\n",
       "    </tr>\n",
       "    <tr>\n",
       "      <th>2</th>\n",
       "      <td>, windows, clients, ios, mobile devices, mobil...</td>\n",
       "      <td>IT-Mitarbeiter (m/w) 1st / 2nd Level Support /...</td>\n",
       "      <td>Als Mitglied eines kleinen, dynamischen Teams ...</td>\n",
       "      <td>0</td>\n",
       "    </tr>\n",
       "    <tr>\n",
       "      <th>3</th>\n",
       "      <td>dynamics ax 2009, dynamics crm 4.0, dynamics a...</td>\n",
       "      <td>Consultant für Microsoft Dynamics CRM (m/w)</td>\n",
       "      <td>Über unseren Kunden: \\n   \\n Unser Kunde ist e...</td>\n",
       "      <td>0</td>\n",
       "    </tr>\n",
       "    <tr>\n",
       "      <th>4</th>\n",
       "      <td>hibernate, java, deutsch, oracle 11g, oracle 1...</td>\n",
       "      <td>Java Senior Developer - Backend (f/m)</td>\n",
       "      <td>Über unseren Kunden: \\n   \\n Unser Kunde ist e...</td>\n",
       "      <td>1</td>\n",
       "    </tr>\n",
       "  </tbody>\n",
       "</table>\n",
       "</div>"
      ],
      "text/plain": [
       "                                       skill_summary  \\\n",
       "0                            tableau, visualisierung   \n",
       "1  , implementierung, java, ms sql, camel, apache...   \n",
       "2  , windows, clients, ios, mobile devices, mobil...   \n",
       "3  dynamics ax 2009, dynamics crm 4.0, dynamics a...   \n",
       "4  hibernate, java, deutsch, oracle 11g, oracle 1...   \n",
       "\n",
       "                                               title  \\\n",
       "0  Business Intelligence Analyst (m/w) - Tableau ...   \n",
       "1  Developer - Talend ESB oder Apache Camel (m/w)...   \n",
       "2  IT-Mitarbeiter (m/w) 1st / 2nd Level Support /...   \n",
       "3        Consultant für Microsoft Dynamics CRM (m/w)   \n",
       "4              Java Senior Developer - Backend (f/m)   \n",
       "\n",
       "                                         description  label  \n",
       "0  Business Intelligence Analyst (m/w) - Tableau ...      0  \n",
       "1  Konzeption, Customizing sowie Softwareanpassun...      0  \n",
       "2  Als Mitglied eines kleinen, dynamischen Teams ...      0  \n",
       "3  Über unseren Kunden: \\n   \\n Unser Kunde ist e...      0  \n",
       "4  Über unseren Kunden: \\n   \\n Unser Kunde ist e...      1  "
      ]
     },
     "execution_count": 210,
     "metadata": {},
     "output_type": "execute_result"
    }
   ],
   "source": [
    "#Projects Tagging\n",
    "df['label'] = labels\n",
    "df.head()"
   ]
  },
  {
   "cell_type": "raw",
   "metadata": {},
   "source": [
    "for i, k in enumerate([2, 3, 4]):\n",
    "    fig, (ax1, ax2) = plt.subplots(1, 2)\n",
    "    fig.set_size_inches(18, 7)\n",
    "    \n",
    "    # Run the Kmeans algorithm\n",
    "    km = KMeans(n_clusters=k)\n",
    "    labels = km.fit_predict(B)\n",
    "    centroids = km.cluster_centers_\n",
    "\n",
    "    # Get silhouette samples\n",
    "    silhouette_vals = silhouette_samples(B, labels)\n",
    "\n",
    "    # Silhouette plot\n",
    "    y_ticks = []\n",
    "    y_lower, y_upper = 0, 0\n",
    "    for i, cluster in enumerate(np.unique(labels)):\n",
    "        cluster_silhouette_vals = silhouette_vals[labels == cluster]\n",
    "        cluster_silhouette_vals.sort()\n",
    "        y_upper += len(cluster_silhouette_vals)\n",
    "        ax1.barh(range(y_lower, y_upper), cluster_silhouette_vals, edgecolor='none', height=1)\n",
    "        ax1.text(-0.03, (y_lower + y_upper) / 2, str(i + 1))\n",
    "        y_lower += len(cluster_silhouette_vals)\n",
    "\n",
    "    # Get the average silhouette score and plot it\n",
    "    avg_score = np.mean(silhouette_vals)\n",
    "    ax1.axvline(avg_score, linestyle='--', linewidth=2, color='green')\n",
    "    ax1.set_yticks([])\n",
    "    ax1.set_xlim([-0.1, 1])\n",
    "    ax1.set_xlabel('Silhouette coefficient values')\n",
    "    ax1.set_ylabel('Cluster labels')\n",
    "    ax1.set_title('Silhouette plot for the various clusters', y=1.02);\n",
    "    \n",
    "    # Scatter plot of data colored with labels\n",
    "    ax2.scatter(np.reshape(B[:, 0],-1), np.reshape(B[:, 1],-1), c=np.reshape(labels,-1))\n",
    "    #ax2.scatter(B[:, 0], B[:, 1], c=labels)\n",
    "    ax2.scatter(centroids[:, 0], centroids[:, 1], marker='*', c='r', s=250)\n",
    "    ax2.set_xlim([-2, 2])\n",
    "    ax2.set_xlim([-2, 2])\n",
    "    ax2.set_xlabel('Eruption time in mins')\n",
    "    ax2.set_ylabel('Waiting time to next eruption')\n",
    "    ax2.set_title('Visualization of clustered data', y=1.02)\n",
    "    ax2.set_aspect('equal')\n",
    "    plt.tight_layout()\n",
    "    plt.suptitle(f'Silhouette analysis using k = {k}',\n",
    "                 fontsize=16, fontweight='semibold', y=1.05);"
   ]
  },
  {
   "cell_type": "markdown",
   "metadata": {},
   "source": [
    "# Trial and Errors"
   ]
  },
  {
   "cell_type": "raw",
   "metadata": {},
   "source": [
    "def isalph(mylist):\n",
    "    return [item for item in mylist if item.isalpha()]\n",
    "def remove_stop_words(mylist):\n",
    "    return [item for item in mylist if item not in stopwords]\n",
    "def lowercase(mylist):\n",
    "    return [item.lower() for item in mylist]"
   ]
  },
  {
   "cell_type": "raw",
   "metadata": {},
   "source": [
    "new_list = [isalph(sub) for sub in list_of_tokens ]\n",
    "new_list"
   ]
  },
  {
   "cell_type": "raw",
   "metadata": {},
   "source": [
    "# text_to_string1 = ','.join(str(v) for v in all_feat)\n",
    "#text_to_string1[0] \n",
    "test = [['I miss having someone to talk to all night..'], ['Pergunte-me qualquer coisa'], ['RT @Caracolinhos13: Tenho a tl cheia dessa merda de quem vos visitou nas \\\\xc3\\\\xbaltimas horas'], ['RT @B24pt: #CarlosHadADream'], ['Tudo tem um fim'], ['RT @thechgama: stalkear as curtidas \\\\xc3\\\\xa9 um caminho sem volta'], ['Como consegues fumar 3 purexs seguidas? \\\\xe2\\\\x80\\\\x94 Eram 2 purex e mix...']]\n",
    "flat_list = [item for sublist in test for item in sublist]\n",
    "list_of_tokens1 = [nltk.word_tokenize(sentence) for sentence in flat_list ]\n",
    "list_lower1 = [lowercase(word) for word in list_of_tokens1]\n",
    "#list_of_tokens\n",
    "new_list1 = [isalph(sub) for sub in list_lower1 ]\n",
    "cleaned1 = [remove_stop_words(word) for word in new_list1 ]\n",
    "print(cleaned1[:20])"
   ]
  },
  {
   "cell_type": "raw",
   "metadata": {},
   "source": [
    "print(type(test))"
   ]
  },
  {
   "cell_type": "raw",
   "metadata": {},
   "source": [
    "#here I define a tokenizer and stemmer which returns the set of stems in the text that it is passed\n",
    "\n",
    "def tokenize_and_stem(text):\n",
    "    #convert text list from list to a string\n",
    "    #text_to_string = ','.join(str(v) for v in text)\n",
    "    flatten_list = [item for sublist in text for item in sublist]\n",
    "    # sentence tokenization and lowercasing first, then by word to ensure that punctuation is caught as it's own token\n",
    "    list_of_tokens = [(nltk.word_tokenize(word)) for word in flatten_list]\n",
    "    \n",
    "    #extract only alphabetic tokens\n",
    "    alphanumeric_tokens = [isalph(sub) for sub in list_of_tokens ]\n",
    "    print(alphanumeric_tokens[:5])\n",
    "    \n",
    "    #lower case\n",
    "    lowercased_list = [lowercase(word) for word in alphanumeric_tokens]\n",
    "    #stopwords removal\n",
    "    cleaned = [remove_stop_words(word) for word in lowercased_list]\n",
    "    print(cleaned[:20])\n",
    "    \n",
    "    #stemming \n",
    "    #double for loop because its a lits of lits\n",
    "    stemmed_tokens = [stemmer.stem(item) for token in cleaned for item in token]\n",
    "    print(stemmed_tokens[:20])\n",
    "\n",
    "    return stemmed_tokens\n",
    "\n",
    "# this is used only for presentational purposes\n",
    "def tokenize_only(text):\n",
    "    #convert text list from list to a string\n",
    "    #text_to_string = ','.join(str(v) for v in text)\n",
    "    flatten_list = [item for sublist in text for item in sublist]\n",
    "    # first tokenize by sentence, then by word to ensure that punctuation is caught as it's own token\n",
    "    list_of_tokens = [(nltk.word_tokenize(word)) for word in flatten_list]\n",
    "    #lower case\n",
    "    lowercased_list = [lowercase(word) for word in list_of_tokens]\n",
    "    #stopwords removal\n",
    "    cleaned = [remove_stop_words(word) for word in lowercased_list]\n",
    "    print(cleaned[:20])\n",
    "    \n",
    "    # filter out any tokens not containing letters (e.g., numeric tokens, raw punctuation)\n",
    "    filtered_tokens = [isalph(sub) for sub in cleaned ]\n",
    "    \n",
    "\n",
    "    return filtered_tokens"
   ]
  },
  {
   "cell_type": "raw",
   "metadata": {},
   "source": [
    "stemmed_text = tokenize_and_stem(all_feat)\n",
    "tokenized_text = tokenize_only(all_feat)\n",
    "#for word in description:\n",
    " #   stemmed_word = tokenize_and_stem(word) #for each item in 'synopses', tokenize/stem\n",
    "  #  all_tokenized = tokenize_only(word)\n",
    "   # stemmed_text.extend(stemmed_word) #extend the 'totalvocab_stemmed' list\n",
    "    #tokenized_text.extend(all_tokenized)\n",
    "\n"
   ]
  },
  {
   "cell_type": "raw",
   "metadata": {},
   "source": [
    "ch = ['Coming , . Working', 'Running', 'Jumping', 'Aufeinander', 'Aufessen Adert']\n",
    "ch1 = [word.split() for word in ch]\n",
    "ch1"
   ]
  },
  {
   "cell_type": "raw",
   "metadata": {},
   "source": [
    "ch2 = [clean_and_stem(word) for word in ch1]\n",
    "ch2\n"
   ]
  },
  {
   "cell_type": "raw",
   "metadata": {},
   "source": [
    "max_df: dont consider words that appear in more than {value}% of all documents\n",
    "min_df: dont consider words that appear in less than {value}% of all documents"
   ]
  },
  {
   "cell_type": "raw",
   "metadata": {},
   "source": [
    "class DataFrameColumnExtracter(TransformerMixin):\n",
    "\n",
    "    def __init__(self, column):\n",
    "        self.column = column\n",
    "\n",
    "    def fit(self, X, y=None):\n",
    "        return self\n",
    "\n",
    "    def transform(self, X, y=None):\n",
    "        return X[self.column]"
   ]
  },
  {
   "cell_type": "code",
   "execution_count": 35,
   "metadata": {},
   "outputs": [],
   "source": [
    "title_pipe = make_pipeline(\n",
    "       DataFrameColumnExtracter('title'), \n",
    "       CountVectorizer(ngram_range=(1, 2), analyzer='word', stop_words=stopwords)\n",
    ")\n",
    "\n",
    "desc_pipe = make_pipeline(\n",
    "       DataFrameColumnExtracter('description'), \n",
    "       CountVectorizer(ngram_range=(1, 2), analyzer='word', stop_words=stopwords)\n",
    ")\n",
    "\n",
    "skill_pipe = make_pipeline(\n",
    "       DataFrameColumnExtracter('skill_summary'), \n",
    "       CountVectorizer(ngram_range=(1, 2), analyzer='word', stop_words=stopwords)\n",
    ")\n"
   ]
  },
  {
   "cell_type": "raw",
   "metadata": {},
   "source": [
    "feature_union = make_union(title_pipe, desc_pipe, skill_pipe)"
   ]
  },
  {
   "cell_type": "raw",
   "metadata": {},
   "source": [
    "feature_union.get_feature_names()"
   ]
  },
  {
   "cell_type": "code",
   "execution_count": 48,
   "metadata": {},
   "outputs": [],
   "source": [
    " sparse_matrix_of_counts = feature_union.fit_transform(df)\n"
   ]
  },
  {
   "cell_type": "raw",
   "metadata": {},
   "source": [
    "print(sparse_matrix_of_counts.shape)"
   ]
  },
  {
   "cell_type": "raw",
   "metadata": {},
   "source": [
    "true_k = 3\n",
    "model = KMeans(n_clusters=true_k)\n",
    "model.fit(sparse_matrix_of_counts)"
   ]
  },
  {
   "cell_type": "raw",
   "metadata": {},
   "source": [
    "examples = ['Free Viagra call today!', \"I'm going to attend the Linux users group tomorrow.\"]\n",
    "x = feature_union.fit_transform(examples)\n",
    "model.predict(x)"
   ]
  },
  {
   "cell_type": "raw",
   "metadata": {},
   "source": [
    "order_centroids = model.cluster_centers_.argsort()[:, ::-1]\n",
    "terms = feature_union.get_feature_names()"
   ]
  },
  {
   "cell_type": "raw",
   "metadata": {},
   "source": [
    "true_k = 5\n",
    "pipeline = Pipeline([\n",
    "    ('vectorizer',  CountVectorizer(ngram_range=(1, 2), analyzer='word', stop_words=stopwords)),\n",
    "    ('tfidf',  TfidfVectorizer(ngram_range=(1, 2),  analyzer='word', stop_words=stopwords)),\n",
    "    ('cluster',  KMeans(n_clusters=true_k)) ])\n",
    "\n",
    "pipeline.fit(combined)"
   ]
  },
  {
   "cell_type": "raw",
   "metadata": {},
   "source": [
    "pipeline.fit(df)"
   ]
  },
  {
   "cell_type": "raw",
   "metadata": {},
   "source": [
    "pipeline.predict(examples)"
   ]
  },
  {
   "cell_type": "raw",
   "metadata": {},
   "source": [
    "vector = CountVectorizer(ngram_range=(1, 3), analyzer='word', stop_words=stopwords)"
   ]
  },
  {
   "cell_type": "raw",
   "metadata": {},
   "source": [
    "X = vector.fit_transform(combined)\n",
    "print(X.shape)"
   ]
  },
  {
   "cell_type": "raw",
   "metadata": {},
   "source": [
    "\n",
    "print(\"Prediction\")\n",
    "X = vectorizer.transform([\"Produktumfeld der Firma VMWARE: Airwatch (sehr gute Kenntnisse)Netzwerktechnik: LAN, DMZ, Rechenzentrum (Vertiefte Kenntnisse) MS-Office Tools: Word, Excel, Visio, Powerpoint (Vertiefte Kenntnisse) Bereitschaft zur Sicherheitsüberprüfung Level 2 (Ü2)\"])\n",
    "predicted = model.predict(X)\n",
    "print(predicted)"
   ]
  },
  {
   "cell_type": "raw",
   "metadata": {},
   "source": [
    "test_data = [['Konzeption, Customizing sowie Softwareanpassungen mit Talend ESB  Implementierung von Softwaresystemen mit Java  Analyse sowie Design von Softwarearchitekturen'], ['Developer - Talend ESB oder Apache Camel (m/w) – Schleswig-Holstein #3076'],[\"mybatis\",\"datenbanken\",\"analyse\",\"talend\",\"softwarearchitektur\",\"java\",\"sql\",\"datenmodelle\",\"ms sql\",\"requirements\",\"apache camel\",\"testautomatisierung\",\"ms\",\"webservices\",\"oracle\",\"entwicklung\",\"esb\",\"apache\",\"camel\",\"implementierung\"]]"
   ]
  },
  {
   "cell_type": "raw",
   "metadata": {},
   "source": [
    "vec = vectorizer.transform(test_data)\n",
    "predicted = model.predict(vec)\n",
    "print(predicted)"
   ]
  }
 ],
 "metadata": {
  "kernelspec": {
   "display_name": "Python 3",
   "language": "python",
   "name": "python3"
  },
  "language_info": {
   "codemirror_mode": {
    "name": "ipython",
    "version": 3
   },
   "file_extension": ".py",
   "mimetype": "text/x-python",
   "name": "python",
   "nbconvert_exporter": "python",
   "pygments_lexer": "ipython3",
   "version": "3.7.1"
  }
 },
 "nbformat": 4,
 "nbformat_minor": 2
}
