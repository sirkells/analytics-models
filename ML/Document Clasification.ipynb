{
 "cells": [
  {
   "cell_type": "code",
   "execution_count": 1,
   "metadata": {},
   "outputs": [],
   "source": [
    "import numpy as np # linear algebra\n",
    "import pandas as pd # data processing, CSV file I/O (e.g. pd.read_csv)\n",
    "from sklearn.cluster import KMeans \n",
    "from sklearn.feature_extraction.text import TfidfVectorizer\n",
    "from sklearn.decomposition import PCA\n",
    "from sklearn.preprocessing import normalize\n",
    "from sklearn.metrics import pairwise_distances\n",
    "\n",
    "import nltk\n",
    "import string\n",
    "\n",
    "import matplotlib.pyplot as plt\n",
    "%matplotlib inline\n",
    "plt.style.use('fivethirtyeight')\n",
    "\n",
    "\n",
    "# email module has some useful functions\n",
    "import os, sys, email,re\n"
   ]
  },
  {
   "cell_type": "code",
   "execution_count": 43,
   "metadata": {},
   "outputs": [
    {
     "data": {
      "text/html": [
       "<div>\n",
       "<style scoped>\n",
       "    .dataframe tbody tr th:only-of-type {\n",
       "        vertical-align: middle;\n",
       "    }\n",
       "\n",
       "    .dataframe tbody tr th {\n",
       "        vertical-align: top;\n",
       "    }\n",
       "\n",
       "    .dataframe thead th {\n",
       "        text-align: right;\n",
       "    }\n",
       "</style>\n",
       "<table border=\"1\" class=\"dataframe\">\n",
       "  <thead>\n",
       "    <tr style=\"text-align: right;\">\n",
       "      <th></th>\n",
       "      <th>skill_summary</th>\n",
       "      <th>title</th>\n",
       "      <th>description</th>\n",
       "    </tr>\n",
       "  </thead>\n",
       "  <tbody>\n",
       "    <tr>\n",
       "      <th>count</th>\n",
       "      <td>5886</td>\n",
       "      <td>5886</td>\n",
       "      <td>5360</td>\n",
       "    </tr>\n",
       "    <tr>\n",
       "      <th>unique</th>\n",
       "      <td>5597</td>\n",
       "      <td>5376</td>\n",
       "      <td>5282</td>\n",
       "    </tr>\n",
       "    <tr>\n",
       "      <th>top</th>\n",
       "      <td>dokumentation, 2nd level support, windows, sup...</td>\n",
       "      <td>Technischer Support</td>\n",
       "      <td>Projektbeschreibung \\n\\n                      ...</td>\n",
       "    </tr>\n",
       "    <tr>\n",
       "      <th>freq</th>\n",
       "      <td>17</td>\n",
       "      <td>23</td>\n",
       "      <td>19</td>\n",
       "    </tr>\n",
       "  </tbody>\n",
       "</table>\n",
       "</div>"
      ],
      "text/plain": [
       "                                            skill_summary  \\\n",
       "count                                                5886   \n",
       "unique                                               5597   \n",
       "top     dokumentation, 2nd level support, windows, sup...   \n",
       "freq                                                   17   \n",
       "\n",
       "                      title                                        description  \n",
       "count                  5886                                               5360  \n",
       "unique                 5376                                               5282  \n",
       "top     Technischer Support  Projektbeschreibung \\n\\n                      ...  \n",
       "freq                     23                                                 19  "
      ]
     },
     "execution_count": 43,
     "metadata": {},
     "output_type": "execute_result"
    }
   ],
   "source": [
    "df = pd.read_csv('projectfinder.csv')\n",
    "df.head()\n",
    "df.describe()"
   ]
  },
  {
   "cell_type": "code",
   "execution_count": 42,
   "metadata": {},
   "outputs": [],
   "source": [
    "title = df.title\n",
    "description = df.description\n",
    "skill = df.skill_summary\n"
   ]
  },
  {
   "cell_type": "code",
   "execution_count": 104,
   "metadata": {},
   "outputs": [],
   "source": [
    "# load nltk's German stopwords'\n",
    "stopwords = nltk.corpus.stopwords.words('german')\n",
    "stopwords_eng = nltk.corpus.stopwords.words('english')\n",
    "stopwords.extend(stopwords_eng)\n",
    "aa = ['gute', 'kunde', 'm/w', 'f\\xc3\\xbcr']\n",
    "stopwords.extend(aa)"
   ]
  },
  {
   "cell_type": "code",
   "execution_count": 105,
   "metadata": {},
   "outputs": [],
   "source": [
    "# load nltk's SnowballStemmer\n",
    "from nltk.stem.snowball import SnowballStemmer\n",
    "stemmer = SnowballStemmer(\"german\")"
   ]
  },
  {
   "cell_type": "code",
   "execution_count": 106,
   "metadata": {},
   "outputs": [],
   "source": [
    "#here I define a tokenizer and stemmer which returns the set of stems in the text that it is passed\n",
    "\n",
    "def tokenize_and_stem(text):\n",
    "    #convert text list from list to a string\n",
    "    text_to_string = ''.join(list(text))\n",
    "    # sentence tokenization first, then by word to ensure that punctuation is caught as it's own token\n",
    "    list_of_tokens = [word for sentence in nltk.sent_tokenize(text_to_string) for word in nltk.word_tokenize(sentence)]\n",
    "    cleaned_tokens = []\n",
    "    #extract only alphabet tokens and add to cleaned_tokens\n",
    "    for token in list_of_tokens:\n",
    "        if re.search('[a-zA-Z]', token):\n",
    "            cleaned_tokens.append(token)\n",
    "    stemmed_tokens = [stemmer.stem(token) for token in cleaned_tokens]\n",
    "    return stemmed_tokens\n",
    "\n",
    "# this is used only for presentational purposes\n",
    "def tokenize_only(text):\n",
    "    #convert text list from list to a string\n",
    "    text_to_string = ''.join(list(text))\n",
    "    # first tokenize by sentence, then by word to ensure that punctuation is caught as it's own token\n",
    "    tokens = [word.lower() for sent in nltk.sent_tokenize(text_to_string) for word in nltk.word_tokenize(sent)]\n",
    "    filtered_tokens = []\n",
    "    # filter out any tokens not containing letters (e.g., numeric tokens, raw punctuation)\n",
    "    for token in tokens:\n",
    "        if re.search('[a-zA-Z]', token):\n",
    "            filtered_tokens.append(token)\n",
    "    return filtered_tokens"
   ]
  },
  {
   "cell_type": "code",
   "execution_count": 107,
   "metadata": {},
   "outputs": [],
   "source": [
    "description_clean = [word for word in description if word not in stopwords]\n",
    "stemmed_text = []\n",
    "tokenized_text = []\n",
    "for word in description_clean:\n",
    "    stemmed_word = tokenize_and_stem(word) #for each item in 'synopses', tokenize/stem\n",
    "    all_tokenized = tokenize_only(word)\n",
    "    stemmed_text.extend(stemmed_word) #extend the 'totalvocab_stemmed' list\n",
    "    tokenized_text.extend(all_tokenized)"
   ]
  },
  {
   "cell_type": "code",
   "execution_count": 108,
   "metadata": {},
   "outputs": [
    {
     "name": "stdout",
     "output_type": "stream",
     "text": [
      "there are 989680 items in vocab_frame\n"
     ]
    }
   ],
   "source": [
    "vocab_frame = pd.DataFrame({'words': tokenized_text}, index = stemmed_text)\n",
    "print('there are ' + str(vocab_frame.shape[0]) + ' items in vocab_frame')"
   ]
  },
  {
   "cell_type": "code",
   "execution_count": 109,
   "metadata": {},
   "outputs": [
    {
     "data": {
      "text/html": [
       "<div>\n",
       "<style scoped>\n",
       "    .dataframe tbody tr th:only-of-type {\n",
       "        vertical-align: middle;\n",
       "    }\n",
       "\n",
       "    .dataframe tbody tr th {\n",
       "        vertical-align: top;\n",
       "    }\n",
       "\n",
       "    .dataframe thead th {\n",
       "        text-align: right;\n",
       "    }\n",
       "</style>\n",
       "<table border=\"1\" class=\"dataframe\">\n",
       "  <thead>\n",
       "    <tr style=\"text-align: right;\">\n",
       "      <th></th>\n",
       "      <th>words</th>\n",
       "    </tr>\n",
       "  </thead>\n",
       "  <tbody>\n",
       "    <tr>\n",
       "      <th>business</th>\n",
       "      <td>business</td>\n",
       "    </tr>\n",
       "    <tr>\n",
       "      <th>intelligenc</th>\n",
       "      <td>intelligence</td>\n",
       "    </tr>\n",
       "    <tr>\n",
       "      <th>analyst</th>\n",
       "      <td>analyst</td>\n",
       "    </tr>\n",
       "    <tr>\n",
       "      <th>m/w</th>\n",
       "      <td>m/w</td>\n",
       "    </tr>\n",
       "    <tr>\n",
       "      <th>tableau</th>\n",
       "      <td>tableau</td>\n",
       "    </tr>\n",
       "  </tbody>\n",
       "</table>\n",
       "</div>"
      ],
      "text/plain": [
       "                    words\n",
       "business         business\n",
       "intelligenc  intelligence\n",
       "analyst           analyst\n",
       "m/w                   m/w\n",
       "tableau           tableau"
      ]
     },
     "execution_count": 109,
     "metadata": {},
     "output_type": "execute_result"
    }
   ],
   "source": [
    "vocab_frame.head()"
   ]
  },
  {
   "cell_type": "code",
   "execution_count": 110,
   "metadata": {},
   "outputs": [
    {
     "name": "stdout",
     "output_type": "stream",
     "text": [
      "CPU times: user 50.5 s, sys: 210 ms, total: 50.7 s\n",
      "Wall time: 50.9 s\n",
      "(5360, 43)\n"
     ]
    }
   ],
   "source": [
    "from sklearn.feature_extraction.text import TfidfVectorizer\n",
    "\n",
    "#define vectorizer parameters\n",
    "tfidf_vectorizer = TfidfVectorizer(max_df=0.8, max_features=200000,\n",
    "                                 min_df=0.2, stop_words=stopwords,\n",
    "                                 use_idf=True, tokenizer=tokenize_and_stem, ngram_range=(1,3))\n",
    "\n",
    "%time tfidf_matrix = tfidf_vectorizer.fit_transform(description) #fit the vectorizer to description\n",
    "\n",
    "print(tfidf_matrix.shape)"
   ]
  },
  {
   "cell_type": "code",
   "execution_count": 92,
   "metadata": {},
   "outputs": [
    {
     "data": {
      "text/plain": [
       "['aktuell',\n",
       " 'anforder',\n",
       " 'angab',\n",
       " 'asap',\n",
       " 'aufgab',\n",
       " 'auslast',\n",
       " 'berat',\n",
       " 'bereich',\n",
       " 'bewerb fur',\n",
       " 'bitt',\n",
       " 'dau',\n",
       " 'direkt bewerb fur',\n",
       " 'einsatzort',\n",
       " 'entwickl',\n",
       " 'erfahr',\n",
       " 'erstell',\n",
       " 'freu',\n",
       " 'fur',\n",
       " 'fur kund',\n",
       " 'gern',\n",
       " 'gmbh',\n",
       " 'gruss',\n",
       " 'gut',\n",
       " 'interess',\n",
       " 'java',\n",
       " 'kenntnis',\n",
       " 'konn',\n",
       " 'kund',\n",
       " 'm/w/d',\n",
       " 'monat',\n",
       " 'ort',\n",
       " 'profil',\n",
       " 'projekt',\n",
       " 'sap',\n",
       " 'send',\n",
       " 'skill',\n",
       " 'sowi',\n",
       " 'start',\n",
       " 'team',\n",
       " 'uber',\n",
       " 'unt',\n",
       " 'unterstutz',\n",
       " 'verfugbar']"
      ]
     },
     "execution_count": 92,
     "metadata": {},
     "output_type": "execute_result"
    }
   ],
   "source": [
    "terms = tfidf_vectorizer.get_feature_names()\n",
    "terms"
   ]
  },
  {
   "cell_type": "code",
   "execution_count": 111,
   "metadata": {},
   "outputs": [
    {
     "data": {
      "text/plain": [
       "array([[-2.22044605e-16,  1.00000000e+00,  8.64780483e-01, ...,\n",
       "         7.62872459e-01,  5.47389137e-01,  5.81232584e-01],\n",
       "       [ 1.00000000e+00,  0.00000000e+00,  1.00000000e+00, ...,\n",
       "         1.00000000e+00,  1.00000000e+00,  1.00000000e+00],\n",
       "       [ 8.64780483e-01,  1.00000000e+00,  0.00000000e+00, ...,\n",
       "         9.67935728e-01,  8.54688701e-01,  8.19076957e-01],\n",
       "       ...,\n",
       "       [ 7.62872459e-01,  1.00000000e+00,  9.67935728e-01, ...,\n",
       "         0.00000000e+00,  5.86348037e-01,  5.67144662e-01],\n",
       "       [ 5.47389137e-01,  1.00000000e+00,  8.54688701e-01, ...,\n",
       "         5.86348037e-01, -2.22044605e-16,  8.01994160e-01],\n",
       "       [ 5.81232584e-01,  1.00000000e+00,  8.19076957e-01, ...,\n",
       "         5.67144662e-01,  8.01994160e-01, -4.44089210e-16]])"
      ]
     },
     "execution_count": 111,
     "metadata": {},
     "output_type": "execute_result"
    }
   ],
   "source": [
    "from sklearn.metrics.pairwise import cosine_similarity\n",
    "dist = 1 - cosine_similarity(tfidf_matrix)\n",
    "dist"
   ]
  },
  {
   "cell_type": "code",
   "execution_count": 112,
   "metadata": {},
   "outputs": [
    {
     "name": "stdout",
     "output_type": "stream",
     "text": [
      "CPU times: user 19.4 s, sys: 260 ms, total: 19.6 s\n",
      "Wall time: 19.8 s\n"
     ]
    }
   ],
   "source": [
    "from sklearn.cluster import KMeans\n",
    "\n",
    "num_clusters = 3 \n",
    "\n",
    "km = KMeans(n_clusters=num_clusters)\n",
    "\n",
    "%time km.fit(tfidf_matrix)\n",
    "\n",
    "clusters = km.labels_.tolist()"
   ]
  },
  {
   "cell_type": "code",
   "execution_count": 113,
   "metadata": {},
   "outputs": [],
   "source": [
    "from sklearn.externals import joblib\n",
    "\n",
    "joblib.dump(km,  'doc_cluster.pkl')\n",
    "\n",
    "km = joblib.load('doc_cluster.pkl')\n",
    "clusters = km.labels_.tolist()"
   ]
  },
  {
   "cell_type": "code",
   "execution_count": 114,
   "metadata": {},
   "outputs": [],
   "source": [
    "projects = {'description': description, 'cluster': clusters }\n",
    "\n",
    "frame = pd.DataFrame(projects, index = [clusters] , columns = ['cluster', 'description'])"
   ]
  },
  {
   "cell_type": "code",
   "execution_count": 115,
   "metadata": {},
   "outputs": [
    {
     "data": {
      "text/plain": [
       "0    3575\n",
       "1    1100\n",
       "2     685\n",
       "Name: cluster, dtype: int64"
      ]
     },
     "execution_count": 115,
     "metadata": {},
     "output_type": "execute_result"
    }
   ],
   "source": [
    "frame['cluster'].value_counts()"
   ]
  },
  {
   "cell_type": "code",
   "execution_count": 116,
   "metadata": {},
   "outputs": [
    {
     "name": "stdout",
     "output_type": "stream",
     "text": [
      "Top terms per cluster:\n",
      "\n",
      "Cluster 0 words:"
     ]
    },
    {
     "name": "stderr",
     "output_type": "stream",
     "text": [
      "/opt/conda/lib/python3.6/site-packages/ipykernel_launcher.py:12: DeprecationWarning: \n",
      ".ix is deprecated. Please use\n",
      ".loc for label based indexing or\n",
      ".iloc for positional indexing\n",
      "\n",
      "See the documentation here:\n",
      "http://pandas.pydata.org/pandas-docs/stable/indexing.html#ix-indexer-is-deprecated\n",
      "  if sys.path[0] == '':\n"
     ]
    },
    {
     "name": "stdout",
     "output_type": "stream",
     "text": [
      " b'f\\xc3\\xbcr', b'erfahrung', b'kenntnisse', b'entwicklung', b'gute', b'kunde',\n",
      "\n",
      "\n",
      "\n",
      "Cluster 1 words: b'sap', b'beratung', b'f\\xc3\\xbcr', b'erfahrung', b'kunde', b'projektes',\n",
      "\n",
      "\n",
      "\n",
      "Cluster 2 words: b'skills', b'teams', b'java', b'start', b'asap', b'profil',\n",
      "\n",
      "\n",
      "\n",
      "\n",
      "\n"
     ]
    }
   ],
   "source": [
    "from __future__ import print_function\n",
    "\n",
    "print(\"Top terms per cluster:\")\n",
    "print()\n",
    "#sort cluster centers by proximity to centroid\n",
    "order_centroids = km.cluster_centers_.argsort()[:, ::-1] \n",
    "\n",
    "for i in range(num_clusters):\n",
    "    print(\"Cluster %d words:\" % i, end='')\n",
    "    \n",
    "    for ind in order_centroids[i, :6]: #replace 6 with n words per cluster\n",
    "        print(' %s' % vocab_frame.ix[terms[ind].split(' ')].values.tolist()[0][0].encode('utf-8', 'ignore'), end=',')\n",
    "    print() #add whitespace\n",
    "    print() #add whitespace\n",
    "    \n",
    "    #print(\"Cluster %d titles:\" % i, end='')\n",
    "    #for title in frame.ix[i]['title'].values.tolist():\n",
    "     #   print(' %s,' % title, end='')\n",
    "    print() #add whitespace\n",
    "    print() #add whitespace\n",
    "    \n",
    "print()\n",
    "print()"
   ]
  },
  {
   "cell_type": "code",
   "execution_count": null,
   "metadata": {},
   "outputs": [],
   "source": []
  }
 ],
 "metadata": {
  "kernelspec": {
   "display_name": "Python 3",
   "language": "python",
   "name": "python3"
  },
  "language_info": {
   "codemirror_mode": {
    "name": "ipython",
    "version": 3
   },
   "file_extension": ".py",
   "mimetype": "text/x-python",
   "name": "python",
   "nbconvert_exporter": "python",
   "pygments_lexer": "ipython3",
   "version": "3.6.4"
  }
 },
 "nbformat": 4,
 "nbformat_minor": 2
}
